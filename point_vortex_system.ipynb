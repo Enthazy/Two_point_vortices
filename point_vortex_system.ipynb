{
 "cells": [
  {
   "cell_type": "markdown",
   "metadata": {},
   "source": [
    "# This is a simple simulation of point vortex systems in the halfplane\n",
    "* Initialization <br>\n",
    "    1. Run the top two cells (code blocks) by moving the pointer on the cells clicking the triangle. <br>\n",
    "* Run <br>\n",
    "    1. Run the cells of specific simulations.\n",
    "  "
   ]
  },
  {
   "cell_type": "code",
   "execution_count": 1,
   "metadata": {},
   "outputs": [
    {
     "name": "stderr",
     "output_type": "stream",
     "text": [
      "Cloning into 'Two_point_vortices'...\n"
     ]
    }
   ],
   "source": [
    "# load all the files\n",
    "!git clone https://github.com/Enthazy/Two_point_vortices.git\n",
    "import sys\n",
    "sys.path.insert(0,'/content/Two_point_vortices')"
   ]
  },
  {
   "cell_type": "code",
   "execution_count": 2,
   "metadata": {},
   "outputs": [],
   "source": [
    "# import the dependency\n",
    "from ulti import *\n",
    "from vortex_system import *\n",
    "from ipywidgets import interactive, fixed, interact_manual, HBox, Layout,VBox"
   ]
  },
  {
   "cell_type": "markdown",
   "metadata": {},
   "source": [
    "# **Two point vortex simulation in the halfplane**\n",
    "* Usage: <br>\n",
    "    1. x1, y1: the position of the first vortex. <br>\n",
    "    2. x2, y2: the position of the second vortex. <br>\n",
    "    3. s1: the strength of the first vortex. <br>\n",
    "    4. lambd: the ratio of the strength of two vortices. <br>\n",
    "    5. step: the step of simulation time step. <br>\n",
    "    6. epoch: the number of steps. <br>\n",
    "    7. method: Euler method as default. \"euler_improved\" for improved Euler's method. <br>\n",
    "    8. x_l, x_r: camera on x coordination. <br>\n",
    "    9. y_b, y_t: camera on y coordination. <br>\n",
    "* Tips: <br>\n",
    "    1. the system take times to response to the new setting of parameters. This reponse time can be reduced by setting a small epoch number. <br>"
   ]
  },
  {
   "cell_type": "code",
   "execution_count": 3,
   "metadata": {},
   "outputs": [
    {
     "data": {
      "application/vnd.jupyter.widget-view+json": {
       "model_id": "1806167e19c8439892fa1031265ea097",
       "version_major": 2,
       "version_minor": 0
      },
      "text/plain": [
       "VBox(children=(HBox(children=(FloatSlider(value=-0.5, description='x1', max=2.0, min=-2.0, step=0.01), FloatSl…"
      ]
     },
     "metadata": {},
     "output_type": "display_data"
    }
   ],
   "source": [
    "widget=interactive(solve_system,x1=(-2,2,0.01),x2=(-2,2,0.01),y1=(0.01,3,0.01),y2=(0.01,3,0.01),s1=(-1,1,0.05),lambd=(-1.5,1.5,0.05),\n",
    "                   step=(0.0001,0.0101,0.001),epoch=(2000,50000,1000) )\n",
    "controls = HBox(widget.children[:-1], layout = Layout(flex_flow='row wrap'))\n",
    "output = widget.children[-1]\n",
    "display(VBox([controls, output]))"
   ]
  },
  {
   "cell_type": "markdown",
   "metadata": {},
   "source": [
    "# Three point vortex system in the halfplane"
   ]
  }
 ],
 "metadata": {
  "kernelspec": {
   "display_name": "Python 3",
   "language": "python",
   "name": "python3"
  },
  "language_info": {
   "codemirror_mode": {
    "name": "ipython",
    "version": 3
   },
   "file_extension": ".py",
   "mimetype": "text/x-python",
   "name": "python",
   "nbconvert_exporter": "python",
   "pygments_lexer": "ipython3",
   "version": "3.7.0"
  }
 },
 "nbformat": 4,
 "nbformat_minor": 2
}
